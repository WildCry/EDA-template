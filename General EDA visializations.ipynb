{
 "cells": [
  {
   "cell_type": "code",
   "execution_count": 122,
   "metadata": {},
   "outputs": [],
   "source": [
    "import numpy as np\n",
    "import pandas as pd\n",
    "import matplotlib.pyplot as plt\n",
    "import seaborn as sns\n",
    "from sklearn.preprocessing import StandardScaler\n",
    "from sklearn.model_selection import train_test_split\n",
    "from sklearn.decomposition import PCA\n",
    "from scipy.stats import zscore\n",
    "import plotly.express as px\n",
    "import plotly.graph_objects as go"
   ]
  },
  {
   "cell_type": "code",
   "execution_count": 108,
   "metadata": {},
   "outputs": [],
   "source": [
    "def convert_to_category(df):\n",
    "    # Iterate over each column in the dataframe\n",
    "    for col in df.columns:\n",
    "        # Check if the data type of the column is 'object' (typically used for text/string data)\n",
    "        if (df[col].dtype == 'object') and (df[col].unique().shape[0] < df.index.shape[0]/2):\n",
    "            df[col] = df[col].astype('category')\n",
    "    return df\n",
    "\n",
    "def get_dummies_from_categorical(df, append=False):\n",
    "    cat_cols = df.select_dtypes('category').columns\n",
    "    if append:\n",
    "        return pd.concat([df,pd.get_dummies(df[cat_cols]).astype('bool')], axis=1)\n",
    "    \n",
    "    return pd.get_dummies(df[cat_cols].astype('bool'))\n",
    "\n",
    "def remove_by_z_score(df,n_std=3):\n",
    "    # Select only numeric columns\n",
    "    numeric_cols = df.select_dtypes(include=['number'])\n",
    "    \n",
    "    z_scores = zscore(numeric_cols)        \n",
    "    abs_z_scores = np.abs(z_scores)\n",
    "    filtered_entries = (abs_z_scores < n_std).all(axis=1)\n",
    "    \n",
    "    print(numeric_cols.shape[0] - filtered_entries.shape[0], 'ouliers removed')\n",
    "    \n",
    "    new_df = df[filtered_entries]\n",
    "    return new_df"
   ]
  },
  {
   "cell_type": "code",
   "execution_count": 109,
   "metadata": {},
   "outputs": [
    {
     "name": "stdout",
     "output_type": "stream",
     "text": [
      "0 ouliers removed\n",
      "<class 'pandas.core.frame.DataFrame'>\n",
      "Int64Index: 195 entries, 0 to 194\n",
      "Data columns (total 16 columns):\n",
      " #   Column                Non-Null Count  Dtype   \n",
      "---  ------                --------------  -----   \n",
      " 0   FREQ                  195 non-null    category\n",
      " 1   Frekvens              195 non-null    category\n",
      " 2   BASE_CUR              195 non-null    category\n",
      " 3   Basisvaluta           195 non-null    category\n",
      " 4   QUOTE_CUR             195 non-null    category\n",
      " 5   Kvoteringsvaluta      195 non-null    category\n",
      " 6   TENOR                 195 non-null    category\n",
      " 7   Løpetid               195 non-null    category\n",
      " 8   DECIMALS              195 non-null    int64   \n",
      " 9   CALCULATED            195 non-null    bool    \n",
      " 10  UNIT_MULT             195 non-null    int64   \n",
      " 11  Multiplikator         195 non-null    category\n",
      " 12  COLLECTION            195 non-null    category\n",
      " 13  Innsamlingstidspunkt  195 non-null    category\n",
      " 14  TIME_PERIOD           195 non-null    category\n",
      " 15  OBS_VALUE             195 non-null    object  \n",
      "dtypes: bool(1), category(12), int64(2), object(1)\n",
      "memory usage: 12.5+ KB\n"
     ]
    }
   ],
   "source": [
    "df = pd.read_csv('EXR.csv', sep=';')\n",
    "\n",
    "df = convert_to_category(df)\n",
    "df = remove_by_z_score(df)\n",
    "\n",
    "onehot = get_dummies_from_categorical(df, append=False)\n",
    "\n",
    "df.info()"
   ]
  },
  {
   "cell_type": "markdown",
   "metadata": {},
   "source": [
    "# Summary statistrics"
   ]
  },
  {
   "cell_type": "code",
   "execution_count": 110,
   "metadata": {},
   "outputs": [
    {
     "data": {
      "text/html": [
       "<div>\n",
       "<style scoped>\n",
       "    .dataframe tbody tr th:only-of-type {\n",
       "        vertical-align: middle;\n",
       "    }\n",
       "\n",
       "    .dataframe tbody tr th {\n",
       "        vertical-align: top;\n",
       "    }\n",
       "\n",
       "    .dataframe thead th {\n",
       "        text-align: right;\n",
       "    }\n",
       "</style>\n",
       "<table border=\"1\" class=\"dataframe\">\n",
       "  <thead>\n",
       "    <tr style=\"text-align: right;\">\n",
       "      <th></th>\n",
       "      <th>DECIMALS</th>\n",
       "      <th>UNIT_MULT</th>\n",
       "    </tr>\n",
       "  </thead>\n",
       "  <tbody>\n",
       "    <tr>\n",
       "      <th>count</th>\n",
       "      <td>195.000000</td>\n",
       "      <td>195.000000</td>\n",
       "    </tr>\n",
       "    <tr>\n",
       "      <th>mean</th>\n",
       "      <td>3.307692</td>\n",
       "      <td>1.128205</td>\n",
       "    </tr>\n",
       "    <tr>\n",
       "      <th>std</th>\n",
       "      <td>1.019244</td>\n",
       "      <td>0.994300</td>\n",
       "    </tr>\n",
       "    <tr>\n",
       "      <th>min</th>\n",
       "      <td>2.000000</td>\n",
       "      <td>0.000000</td>\n",
       "    </tr>\n",
       "    <tr>\n",
       "      <th>25%</th>\n",
       "      <td>2.000000</td>\n",
       "      <td>0.000000</td>\n",
       "    </tr>\n",
       "    <tr>\n",
       "      <th>50%</th>\n",
       "      <td>4.000000</td>\n",
       "      <td>2.000000</td>\n",
       "    </tr>\n",
       "    <tr>\n",
       "      <th>75%</th>\n",
       "      <td>4.000000</td>\n",
       "      <td>2.000000</td>\n",
       "    </tr>\n",
       "    <tr>\n",
       "      <th>max</th>\n",
       "      <td>6.000000</td>\n",
       "      <td>2.000000</td>\n",
       "    </tr>\n",
       "  </tbody>\n",
       "</table>\n",
       "</div>"
      ],
      "text/plain": [
       "         DECIMALS   UNIT_MULT\n",
       "count  195.000000  195.000000\n",
       "mean     3.307692    1.128205\n",
       "std      1.019244    0.994300\n",
       "min      2.000000    0.000000\n",
       "25%      2.000000    0.000000\n",
       "50%      4.000000    2.000000\n",
       "75%      4.000000    2.000000\n",
       "max      6.000000    2.000000"
      ]
     },
     "execution_count": 110,
     "metadata": {},
     "output_type": "execute_result"
    }
   ],
   "source": [
    "df.describe()"
   ]
  },
  {
   "cell_type": "code",
   "execution_count": 111,
   "metadata": {},
   "outputs": [
    {
     "name": "stdout",
     "output_type": "stream",
     "text": [
      "B    195\n",
      "Name: FREQ, dtype: int64\n",
      "Virkedag    195\n",
      "Name: Frekvens, dtype: int64\n",
      "AUD    5\n",
      "SEK    5\n",
      "MXN    5\n",
      "MYR    5\n",
      "NZD    5\n",
      "PHP    5\n",
      "PKR    5\n",
      "PLN    5\n",
      "RON    5\n",
      "SGD    5\n",
      "KRW    5\n",
      "THB    5\n",
      "TRY    5\n",
      "TWD    5\n",
      "TWI    5\n",
      "USD    5\n",
      "VND    5\n",
      "XDR    5\n",
      "MMK    5\n",
      "JPY    5\n",
      "BDT    5\n",
      "DKK    5\n",
      "BGN    5\n",
      "BRL    5\n",
      "BYN    5\n",
      "CAD    5\n",
      "CHF    5\n",
      "CNY    5\n",
      "CZK    5\n",
      "EUR    5\n",
      "ISK    5\n",
      "GBP    5\n",
      "HKD    5\n",
      "HUF    5\n",
      "I44    5\n",
      "IDR    5\n",
      "ILS    5\n",
      "INR    5\n",
      "ZAR    5\n",
      "Name: BASE_CUR, dtype: int64\n",
      "Amerikanske dollar                  5\n",
      "Singapore dollar                    5\n",
      "Myanmar kyat                        5\n",
      "New Zealand dollar                  5\n",
      "Ny israelsk shekel                  5\n",
      "Ny rumenske leu                     5\n",
      "Nye taiwanske dollar                5\n",
      "Pakistanske rupi                    5\n",
      "Polske zloty                        5\n",
      "Sveitsiske franc                    5\n",
      "Malaysiske ringgit                  5\n",
      "Svenske kroner                      5\n",
      "Sørafrikanske rand                  5\n",
      "Sørkoreanske won                    5\n",
      "Thailandske baht                    5\n",
      "Tsjekkiske koruna                   5\n",
      "Tyrkiske lira                       5\n",
      "Ungarske forinter                   5\n",
      "Meksikanske peso                    5\n",
      "Kinesiske yuan                      5\n",
      "Australske dollar                   5\n",
      "Filippinske peso                    5\n",
      "Bangladeshi taka                    5\n",
      "Belarusiske nye rubler              5\n",
      "Brasilianske real                   5\n",
      "Britiske pund                       5\n",
      "Bulgarske lev                       5\n",
      "Danske kroner                       5\n",
      "Euro                                5\n",
      "Hong Kong dollar                    5\n",
      "Kanadiske dollar                    5\n",
      "IMF Spesielle trekkrettigheter      5\n",
      "Importveid kursindeks               5\n",
      "Indiske rupi                        5\n",
      "Indonesiske rupiah                  5\n",
      "Industriens effektive valutakurs    5\n",
      "Islandske kroner                    5\n",
      "Japanske yen                        5\n",
      "Vietnamesiske dong                  5\n",
      "Name: Basisvaluta, dtype: int64\n",
      "NOK    195\n",
      "Name: QUOTE_CUR, dtype: int64\n",
      "Norske kroner    195\n",
      "Name: Kvoteringsvaluta, dtype: int64\n",
      "SP    195\n",
      "Name: TENOR, dtype: int64\n",
      "Spot    195\n",
      "Name: Løpetid, dtype: int64\n",
      "Hundre     110\n",
      "Enheter     85\n",
      "Name: Multiplikator, dtype: int64\n",
      "C    195\n",
      "Name: COLLECTION, dtype: int64\n",
      "ECB concertation tidspunkt 14:15 CET    195\n",
      "Name: Innsamlingstidspunkt, dtype: int64\n",
      "2023-05-26    39\n",
      "2023-05-30    39\n",
      "2023-05-31    39\n",
      "2023-06-01    39\n",
      "2023-06-02    39\n",
      "Name: TIME_PERIOD, dtype: int64\n"
     ]
    }
   ],
   "source": [
    "cat_cols = df.select_dtypes('category').columns\n",
    "for i in cat_cols:\n",
    "    print(df[i].value_counts())"
   ]
  },
  {
   "cell_type": "code",
   "execution_count": 112,
   "metadata": {},
   "outputs": [
    {
     "data": {
      "text/html": [
       "<div>\n",
       "<style scoped>\n",
       "    .dataframe tbody tr th:only-of-type {\n",
       "        vertical-align: middle;\n",
       "    }\n",
       "\n",
       "    .dataframe tbody tr th {\n",
       "        vertical-align: top;\n",
       "    }\n",
       "\n",
       "    .dataframe thead th {\n",
       "        text-align: right;\n",
       "    }\n",
       "</style>\n",
       "<table border=\"1\" class=\"dataframe\">\n",
       "  <thead>\n",
       "    <tr style=\"text-align: right;\">\n",
       "      <th></th>\n",
       "      <th>FREQ</th>\n",
       "      <th>Frekvens</th>\n",
       "      <th>BASE_CUR</th>\n",
       "      <th>Basisvaluta</th>\n",
       "      <th>QUOTE_CUR</th>\n",
       "      <th>Kvoteringsvaluta</th>\n",
       "      <th>TENOR</th>\n",
       "      <th>Løpetid</th>\n",
       "      <th>DECIMALS</th>\n",
       "      <th>CALCULATED</th>\n",
       "      <th>UNIT_MULT</th>\n",
       "      <th>Multiplikator</th>\n",
       "      <th>COLLECTION</th>\n",
       "      <th>Innsamlingstidspunkt</th>\n",
       "      <th>TIME_PERIOD</th>\n",
       "      <th>OBS_VALUE</th>\n",
       "    </tr>\n",
       "  </thead>\n",
       "  <tbody>\n",
       "    <tr>\n",
       "      <th>0</th>\n",
       "      <td>B</td>\n",
       "      <td>Virkedag</td>\n",
       "      <td>HUF</td>\n",
       "      <td>Ungarske forinter</td>\n",
       "      <td>NOK</td>\n",
       "      <td>Norske kroner</td>\n",
       "      <td>SP</td>\n",
       "      <td>Spot</td>\n",
       "      <td>4</td>\n",
       "      <td>False</td>\n",
       "      <td>2</td>\n",
       "      <td>Hundre</td>\n",
       "      <td>C</td>\n",
       "      <td>ECB concertation tidspunkt 14:15 CET</td>\n",
       "      <td>2023-05-26</td>\n",
       "      <td>3,1812</td>\n",
       "    </tr>\n",
       "    <tr>\n",
       "      <th>1</th>\n",
       "      <td>B</td>\n",
       "      <td>Virkedag</td>\n",
       "      <td>HUF</td>\n",
       "      <td>Ungarske forinter</td>\n",
       "      <td>NOK</td>\n",
       "      <td>Norske kroner</td>\n",
       "      <td>SP</td>\n",
       "      <td>Spot</td>\n",
       "      <td>4</td>\n",
       "      <td>False</td>\n",
       "      <td>2</td>\n",
       "      <td>Hundre</td>\n",
       "      <td>C</td>\n",
       "      <td>ECB concertation tidspunkt 14:15 CET</td>\n",
       "      <td>2023-05-30</td>\n",
       "      <td>3,2059</td>\n",
       "    </tr>\n",
       "    <tr>\n",
       "      <th>2</th>\n",
       "      <td>B</td>\n",
       "      <td>Virkedag</td>\n",
       "      <td>HUF</td>\n",
       "      <td>Ungarske forinter</td>\n",
       "      <td>NOK</td>\n",
       "      <td>Norske kroner</td>\n",
       "      <td>SP</td>\n",
       "      <td>Spot</td>\n",
       "      <td>4</td>\n",
       "      <td>False</td>\n",
       "      <td>2</td>\n",
       "      <td>Hundre</td>\n",
       "      <td>C</td>\n",
       "      <td>ECB concertation tidspunkt 14:15 CET</td>\n",
       "      <td>2023-05-31</td>\n",
       "      <td>3,237</td>\n",
       "    </tr>\n",
       "    <tr>\n",
       "      <th>3</th>\n",
       "      <td>B</td>\n",
       "      <td>Virkedag</td>\n",
       "      <td>HUF</td>\n",
       "      <td>Ungarske forinter</td>\n",
       "      <td>NOK</td>\n",
       "      <td>Norske kroner</td>\n",
       "      <td>SP</td>\n",
       "      <td>Spot</td>\n",
       "      <td>4</td>\n",
       "      <td>False</td>\n",
       "      <td>2</td>\n",
       "      <td>Hundre</td>\n",
       "      <td>C</td>\n",
       "      <td>ECB concertation tidspunkt 14:15 CET</td>\n",
       "      <td>2023-06-01</td>\n",
       "      <td>3,2307</td>\n",
       "    </tr>\n",
       "    <tr>\n",
       "      <th>4</th>\n",
       "      <td>B</td>\n",
       "      <td>Virkedag</td>\n",
       "      <td>HUF</td>\n",
       "      <td>Ungarske forinter</td>\n",
       "      <td>NOK</td>\n",
       "      <td>Norske kroner</td>\n",
       "      <td>SP</td>\n",
       "      <td>Spot</td>\n",
       "      <td>4</td>\n",
       "      <td>False</td>\n",
       "      <td>2</td>\n",
       "      <td>Hundre</td>\n",
       "      <td>C</td>\n",
       "      <td>ECB concertation tidspunkt 14:15 CET</td>\n",
       "      <td>2023-06-02</td>\n",
       "      <td>3,1896</td>\n",
       "    </tr>\n",
       "  </tbody>\n",
       "</table>\n",
       "</div>"
      ],
      "text/plain": [
       "  FREQ  Frekvens BASE_CUR        Basisvaluta QUOTE_CUR Kvoteringsvaluta TENOR  \\\n",
       "0    B  Virkedag      HUF  Ungarske forinter       NOK    Norske kroner    SP   \n",
       "1    B  Virkedag      HUF  Ungarske forinter       NOK    Norske kroner    SP   \n",
       "2    B  Virkedag      HUF  Ungarske forinter       NOK    Norske kroner    SP   \n",
       "3    B  Virkedag      HUF  Ungarske forinter       NOK    Norske kroner    SP   \n",
       "4    B  Virkedag      HUF  Ungarske forinter       NOK    Norske kroner    SP   \n",
       "\n",
       "  Løpetid  DECIMALS  CALCULATED  UNIT_MULT Multiplikator COLLECTION  \\\n",
       "0    Spot         4       False          2        Hundre          C   \n",
       "1    Spot         4       False          2        Hundre          C   \n",
       "2    Spot         4       False          2        Hundre          C   \n",
       "3    Spot         4       False          2        Hundre          C   \n",
       "4    Spot         4       False          2        Hundre          C   \n",
       "\n",
       "                   Innsamlingstidspunkt TIME_PERIOD OBS_VALUE  \n",
       "0  ECB concertation tidspunkt 14:15 CET  2023-05-26    3,1812  \n",
       "1  ECB concertation tidspunkt 14:15 CET  2023-05-30    3,2059  \n",
       "2  ECB concertation tidspunkt 14:15 CET  2023-05-31     3,237  \n",
       "3  ECB concertation tidspunkt 14:15 CET  2023-06-01    3,2307  \n",
       "4  ECB concertation tidspunkt 14:15 CET  2023-06-02    3,1896  "
      ]
     },
     "execution_count": 112,
     "metadata": {},
     "output_type": "execute_result"
    }
   ],
   "source": [
    "df.head()"
   ]
  },
  {
   "cell_type": "markdown",
   "metadata": {},
   "source": [
    "# Violin plots of numeric cols"
   ]
  },
  {
   "cell_type": "code",
   "execution_count": 113,
   "metadata": {},
   "outputs": [
    {
     "data": {
      "image/png": "[encoded data removed]",
      "text/plain": [
       "<Figure size 1200x800 with 1 Axes>"
      ]
     },
     "metadata": {},
     "output_type": "display_data"
    }
   ],
   "source": [
    "# Ensure that the columns are of numeric type\n",
    "numeric_cols = df.select_dtypes('number').columns\n",
    "\n",
    "# Plotting\n",
    "plt.figure(figsize=(12, 8))\n",
    "sns.violinplot(data=df[numeric_cols])\n",
    "plt.title('Violin plots of all numeric columns')\n",
    "plt.show()"
   ]
  },
  {
   "cell_type": "code",
   "execution_count": 149,
   "metadata": {},
   "outputs": [
    {
     "name": "stderr",
     "output_type": "stream",
     "text": [
      "<__array_function__ internals>:200: RuntimeWarning:\n",
      "\n",
      "Converting input from bool to <class 'numpy.uint8'> for compatibility.\n",
      "\n"
     ]
    },
    {
     "data": {
      "image/png": "[encoded data removed]",
      "text/plain": [
       "<Figure size 750x750 with 12 Axes>"
      ]
     },
     "metadata": {},
     "output_type": "display_data"
    }
   ],
   "source": [
    "sns.pairplot(df) #, hue='Basisvaluta')\n",
    "plt.show()"
   ]
  },
  {
   "cell_type": "markdown",
   "metadata": {},
   "source": [
    "# Sample correlation matrix"
   ]
  },
  {
   "cell_type": "code",
   "execution_count": null,
   "metadata": {},
   "outputs": [],
   "source": [
    "df.corr(numeric_only=True).style.background_gradient(cmap='coolwarm')"
   ]
  },
  {
   "cell_type": "markdown",
   "metadata": {},
   "source": [
    "# Scaling and PCA"
   ]
  },
  {
   "cell_type": "code",
   "execution_count": 130,
   "metadata": {},
   "outputs": [
    {
     "data": {
      "image/png": "[encoded data removed]",
      "text/plain": [
       "<Figure size 1000x600 with 1 Axes>"
      ]
     },
     "metadata": {},
     "output_type": "display_data"
    }
   ],
   "source": [
    "scaler = StandardScaler()\n",
    "df_num_scaled = scaler.fit_transform(df[numeric_cols])\n",
    "\n",
    "pca = PCA()\n",
    "T = pca.fit_transform(df_num_scaled)\n",
    "\n",
    "plt.figure(figsize=(10,6))\n",
    "plt.bar(range(len(pca.explained_variance_ratio_)), pca.explained_variance_ratio_, alpha=0.5, align='center', label='individual explained variance')\n",
    "plt.step(range(len(pca.explained_variance_ratio_)), np.cumsum(pca.explained_variance_ratio_), where='mid', label='cumulative explained variance')\n",
    "plt.ylabel('Explained variance ratio')\n",
    "plt.xlabel('Principal components')\n",
    "plt.legend(loc='best')\n",
    "plt.tight_layout()\n",
    "plt.show()"
   ]
  },
  {
   "cell_type": "code",
   "execution_count": 143,
   "metadata": {},
   "outputs": [
    {
     "data": {
      "application/vnd.plotly.v1+json": {
       "config": {
        "plotlyServerURL": "https://plot.ly"
       },
       "data": [
        {
         "hovertemplate": "color=Ungarske forinter<br>x=%{x}<br>y=%{y}<br>z=%{z}<extra></extra>",
         "legendgroup": "Ungarske forinter",
         "marker": {
          "color": "#636efa",
          "symbol": "circle"
         },
         "mode": "markers",
         "name": "Ungarske forinter",
         "scene": "scene",
         "showlegend": true,
         "type": "scatter3d",
         "x": [
          -0.14005250737872732,
          -0.14005250737872513,
          -0.1400525073787256,
          -0.1400525073787256,
          -0.1400525073787256
         ],
         "y": [
          1.1031106136373972,
          1.1031106136373952,
          1.1031106136373958,
          1.1031106136373958,
          1.1031106136373958
         ],
         "z": [
          1.1031106136373972,
          1.1031106136373952,
          1.1031106136373958,
          1.1031106136373958,
          1.1031106136373958
         ]
        },
        {
         "hovertemplate": "color=Danske kroner<br>x=%{x}<br>y=%{y}<br>z=%{z}<extra></extra>",
         "legendgroup": "Danske kroner",
         "marker": {
          "color": "#EF553B",
          "symbol": "circle"
         },
         "mode": "markers",
         "name": "Danske kroner",
         "scene": "scene",
         "showlegend": true,
         "type": "scatter3d",
         "x": [
          -1.531136438641249,
          -1.531136438641249,
          -1.531136438641249,
          -1.531136438641249,
          -1.531136438641249
         ],
         "y": [
          -0.28797331762512546,
          -0.28797331762512546,
          -0.28797331762512546,
          -0.28797331762512546,
          -0.28797331762512546
         ],
         "z": [
          -0.28797331762512546,
          -0.28797331762512546,
          -0.28797331762512546,
          -0.28797331762512546,
          -0.28797331762512546
         ]
        },
        {
         "hovertemplate": "color=Myanmar kyat<br>x=%{x}<br>y=%{y}<br>z=%{z}<extra></extra>",
         "legendgroup": "Myanmar kyat",
         "marker": {
          "color": "#00cc96",
          "symbol": "circle"
         },
         "mode": "markers",
         "name": "Myanmar kyat",
         "scene": "scene",
         "showlegend": true,
         "type": "scatter3d",
         "x": [
          -0.1400525073787256,
          -0.1400525073787256,
          -0.1400525073787256,
          -0.1400525073787256,
          -0.1400525073787256
         ],
         "y": [
          1.1031106136373958,
          1.1031106136373958,
          1.1031106136373958,
          1.1031106136373958,
          1.1031106136373958
         ],
         "z": [
          1.1031106136373958,
          1.1031106136373958,
          1.1031106136373958,
          1.1031106136373958,
          1.1031106136373958
         ]
        },
        {
         "hovertemplate": "color=IMF Spesielle trekkrettigheter<br>x=%{x}<br>y=%{y}<br>z=%{z}<extra></extra>",
         "legendgroup": "IMF Spesielle trekkrettigheter",
         "marker": {
          "color": "#ab63fa",
          "symbol": "circle"
         },
         "mode": "markers",
         "name": "IMF Spesielle trekkrettigheter",
         "scene": "scene",
         "showlegend": true,
         "type": "scatter3d",
         "x": [
          1.9814706853004393,
          1.9814706853004393,
          1.9814706853004393,
          1.9814706853004393,
          1.9814706853004393
         ],
         "y": [
          0.3726713522207503,
          0.3726713522207503,
          0.3726713522207503,
          0.3726713522207503,
          0.3726713522207503
         ],
         "z": [
          0.3726713522207503,
          0.3726713522207503,
          0.3726713522207503,
          0.3726713522207503,
          0.3726713522207503
         ]
        },
        {
         "hovertemplate": "color=Tyrkiske lira<br>x=%{x}<br>y=%{y}<br>z=%{z}<extra></extra>",
         "legendgroup": "Tyrkiske lira",
         "marker": {
          "color": "#FFA15A",
          "symbol": "circle"
         },
         "mode": "markers",
         "name": "Tyrkiske lira",
         "scene": "scene",
         "showlegend": true,
         "type": "scatter3d",
         "x": [
          -1.531136438641249,
          -1.531136438641249,
          -1.531136438641249,
          -1.531136438641249,
          -1.531136438641249
         ],
         "y": [
          -0.28797331762512546,
          -0.28797331762512546,
          -0.28797331762512546,
          -0.28797331762512546,
          -0.28797331762512546
         ],
         "z": [
          -0.28797331762512546,
          -0.28797331762512546,
          -0.28797331762512546,
          -0.28797331762512546,
          -0.28797331762512546
         ]
        },
        {
         "hovertemplate": "color=Ny rumenske leu<br>x=%{x}<br>y=%{y}<br>z=%{z}<extra></extra>",
         "legendgroup": "Ny rumenske leu",
         "marker": {
          "color": "#19d3f3",
          "symbol": "circle"
         },
         "mode": "markers",
         "name": "Ny rumenske leu",
         "scene": "scene",
         "showlegend": true,
         "type": "scatter3d",
         "x": [
          -1.531136438641249,
          -1.531136438641249,
          -1.531136438641249,
          -1.531136438641249,
          -1.531136438641249
         ],
         "y": [
          -0.28797331762512546,
          -0.28797331762512546,
          -0.28797331762512546,
          -0.28797331762512546,
          -0.28797331762512546
         ],
         "z": [
          -0.28797331762512546,
          -0.28797331762512546,
          -0.28797331762512546,
          -0.28797331762512546,
          -0.28797331762512546
         ]
        },
        {
         "hovertemplate": "color=New Zealand dollar<br>x=%{x}<br>y=%{y}<br>z=%{z}<extra></extra>",
         "legendgroup": "New Zealand dollar",
         "marker": {
          "color": "#FF6692",
          "symbol": "circle"
         },
         "mode": "markers",
         "name": "New Zealand dollar",
         "scene": "scene",
         "showlegend": true,
         "type": "scatter3d",
         "x": [
          1.285928719669178,
          1.285928719669178,
          1.285928719669178,
          1.285928719669178,
          1.285928719669178
         ],
         "y": [
          -0.3228706134105102,
          -0.3228706134105102,
          -0.3228706134105102,
          -0.3228706134105102,
          -0.3228706134105102
         ],
         "z": [
          -0.3228706134105102,
          -0.3228706134105102,
          -0.3228706134105102,
          -0.3228706134105102,
          -0.3228706134105102
         ]
        },
        {
         "hovertemplate": "color=Japanske yen<br>x=%{x}<br>y=%{y}<br>z=%{z}<extra></extra>",
         "legendgroup": "Japanske yen",
         "marker": {
          "color": "#B6E880",
          "symbol": "circle"
         },
         "mode": "markers",
         "name": "Japanske yen",
         "scene": "scene",
         "showlegend": true,
         "type": "scatter3d",
         "x": [
          -0.1400525073787256,
          -0.1400525073787256,
          -0.1400525073787256,
          -0.1400525073787256,
          -0.1400525073787256
         ],
         "y": [
          1.1031106136373958,
          1.1031106136373958,
          1.1031106136373958,
          1.1031106136373958,
          1.1031106136373958
         ],
         "z": [
          1.1031106136373958,
          1.1031106136373958,
          1.1031106136373958,
          1.1031106136373958,
          1.1031106136373958
         ]
        },
        {
         "hovertemplate": "color=Hong Kong dollar<br>x=%{x}<br>y=%{y}<br>z=%{z}<extra></extra>",
         "legendgroup": "Hong Kong dollar",
         "marker": {
          "color": "#FF97FF",
          "symbol": "circle"
         },
         "mode": "markers",
         "name": "Hong Kong dollar",
         "scene": "scene",
         "showlegend": true,
         "type": "scatter3d",
         "x": [
          1.285928719669178,
          1.285928719669178,
          1.285928719669178,
          1.285928719669178,
          1.285928719669178
         ],
         "y": [
          -0.3228706134105102,
          -0.3228706134105102,
          -0.3228706134105102,
          -0.3228706134105102,
          -0.3228706134105102
         ],
         "z": [
          -0.3228706134105102,
          -0.3228706134105102,
          -0.3228706134105102,
          -0.3228706134105102,
          -0.3228706134105102
         ]
        },
        {
         "hovertemplate": "color=Tsjekkiske koruna<br>x=%{x}<br>y=%{y}<br>z=%{z}<extra></extra>",
         "legendgroup": "Tsjekkiske koruna",
         "marker": {
          "color": "#FECB52",
          "symbol": "circle"
         },
         "mode": "markers",
         "name": "Tsjekkiske koruna",
         "scene": "scene",
         "showlegend": true,
         "type": "scatter3d",
         "x": [
          -0.835594473009987,
          -0.835594473009987,
          -0.835594473009987,
          -0.835594473009987,
          -0.835594473009987
         ],
         "y": [
          0.4075686480061352,
          0.4075686480061352,
          0.4075686480061352,
          0.4075686480061352,
          0.4075686480061352
         ],
         "z": [
          0.4075686480061352,
          0.4075686480061352,
          0.4075686480061352,
          0.4075686480061352,
          0.4075686480061352
         ]
        },
        {
         "hovertemplate": "color=Kanadiske dollar<br>x=%{x}<br>y=%{y}<br>z=%{z}<extra></extra>",
         "legendgroup": "Kanadiske dollar",
         "marker": {
          "color": "#636efa",
          "symbol": "circle"
         },
         "mode": "markers",
         "name": "Kanadiske dollar",
         "scene": "scene",
         "showlegend": true,
         "type": "scatter3d",
         "x": [
          1.285928719669178,
          1.285928719669178,
          1.285928719669178,
          1.285928719669178,
          1.285928719669178
         ],
         "y": [
          -0.3228706134105102,
          -0.3228706134105102,
          -0.3228706134105102,
          -0.3228706134105102,
          -0.3228706134105102
         ],
         "z": [
          -0.3228706134105102,
          -0.3228706134105102,
          -0.3228706134105102,
          -0.3228706134105102,
          -0.3228706134105102
         ]
        },
        {
         "hovertemplate": "color=Bangladeshi taka<br>x=%{x}<br>y=%{y}<br>z=%{z}<extra></extra>",
         "legendgroup": "Bangladeshi taka",
         "marker": {
          "color": "#EF553B",
          "symbol": "circle"
         },
         "mode": "markers",
         "name": "Bangladeshi taka",
         "scene": "scene",
         "showlegend": true,
         "type": "scatter3d",
         "x": [
          -1.531136438641249,
          -1.531136438641249,
          -1.531136438641249,
          -1.531136438641249,
          -1.531136438641249
         ],
         "y": [
          -0.28797331762512546,
          -0.28797331762512546,
          -0.28797331762512546,
          -0.28797331762512546,
          -0.28797331762512546
         ],
         "z": [
          -0.28797331762512546,
          -0.28797331762512546,
          -0.28797331762512546,
          -0.28797331762512546,
          -0.28797331762512546
         ]
        },
        {
         "hovertemplate": "color=Amerikanske dollar<br>x=%{x}<br>y=%{y}<br>z=%{z}<extra></extra>",
         "legendgroup": "Amerikanske dollar",
         "marker": {
          "color": "#00cc96",
          "symbol": "circle"
         },
         "mode": "markers",
         "name": "Amerikanske dollar",
         "scene": "scene",
         "showlegend": true,
         "type": "scatter3d",
         "x": [
          1.285928719669178,
          1.285928719669178,
          1.285928719669178,
          1.285928719669178,
          1.285928719669178
         ],
         "y": [
          -0.3228706134105102,
          -0.3228706134105102,
          -0.3228706134105102,
          -0.3228706134105102,
          -0.3228706134105102
         ],
         "z": [
          -0.3228706134105102,
          -0.3228706134105102,
          -0.3228706134105102,
          -0.3228706134105102,
          -0.3228706134105102
         ]
        },
        {
         "hovertemplate": "color=Thailandske baht<br>x=%{x}<br>y=%{y}<br>z=%{z}<extra></extra>",
         "legendgroup": "Thailandske baht",
         "marker": {
          "color": "#ab63fa",
          "symbol": "circle"
         },
         "mode": "markers",
         "name": "Thailandske baht",
         "scene": "scene",
         "showlegend": true,
         "type": "scatter3d",
         "x": [
          -0.835594473009987,
          -0.835594473009987,
          -0.835594473009987,
          -0.835594473009987,
          -0.835594473009987
         ],
         "y": [
          0.4075686480061352,
          0.4075686480061352,
          0.4075686480061352,
          0.4075686480061352,
          0.4075686480061352
         ],
         "z": [
          0.4075686480061352,
          0.4075686480061352,
          0.4075686480061352,
          0.4075686480061352,
          0.4075686480061352
         ]
        },
        {
         "hovertemplate": "color=Polske zloty<br>x=%{x}<br>y=%{y}<br>z=%{z}<extra></extra>",
         "legendgroup": "Polske zloty",
         "marker": {
          "color": "#FFA15A",
          "symbol": "circle"
         },
         "mode": "markers",
         "name": "Polske zloty",
         "scene": "scene",
         "showlegend": true,
         "type": "scatter3d",
         "x": [
          1.285928719669178,
          1.285928719669178,
          1.285928719669178,
          1.285928719669178,
          1.285928719669178
         ],
         "y": [
          -0.3228706134105102,
          -0.3228706134105102,
          -0.3228706134105102,
          -0.3228706134105102,
          -0.3228706134105102
         ],
         "z": [
          -0.3228706134105102,
          -0.3228706134105102,
          -0.3228706134105102,
          -0.3228706134105102,
          -0.3228706134105102
         ]
        },
        {
         "hovertemplate": "color=Australske dollar<br>x=%{x}<br>y=%{y}<br>z=%{z}<extra></extra>",
         "legendgroup": "Australske dollar",
         "marker": {
          "color": "#19d3f3",
          "symbol": "circle"
         },
         "mode": "markers",
         "name": "Australske dollar",
         "scene": "scene",
         "showlegend": true,
         "type": "scatter3d",
         "x": [
          1.285928719669178,
          1.285928719669178,
          1.285928719669178,
          1.285928719669178,
          1.285928719669178
         ],
         "y": [
          -0.3228706134105102,
          -0.3228706134105102,
          -0.3228706134105102,
          -0.3228706134105102,
          -0.3228706134105102
         ],
         "z": [
          -0.3228706134105102,
          -0.3228706134105102,
          -0.3228706134105102,
          -0.3228706134105102,
          -0.3228706134105102
         ]
        },
        {
         "hovertemplate": "color=Malaysiske ringgit<br>x=%{x}<br>y=%{y}<br>z=%{z}<extra></extra>",
         "legendgroup": "Malaysiske ringgit",
         "marker": {
          "color": "#FF6692",
          "symbol": "circle"
         },
         "mode": "markers",
         "name": "Malaysiske ringgit",
         "scene": "scene",
         "showlegend": true,
         "type": "scatter3d",
         "x": [
          1.285928719669178,
          1.285928719669178,
          1.285928719669178,
          1.285928719669178,
          1.285928719669178
         ],
         "y": [
          -0.3228706134105102,
          -0.3228706134105102,
          -0.3228706134105102,
          -0.3228706134105102,
          -0.3228706134105102
         ],
         "z": [
          -0.3228706134105102,
          -0.3228706134105102,
          -0.3228706134105102,
          -0.3228706134105102,
          -0.3228706134105102
         ]
        },
        {
         "hovertemplate": "color=Indiske rupi<br>x=%{x}<br>y=%{y}<br>z=%{z}<extra></extra>",
         "legendgroup": "Indiske rupi",
         "marker": {
          "color": "#B6E880",
          "symbol": "circle"
         },
         "mode": "markers",
         "name": "Indiske rupi",
         "scene": "scene",
         "showlegend": true,
         "type": "scatter3d",
         "x": [
          -0.835594473009987,
          -0.835594473009987,
          -0.835594473009987,
          -0.835594473009987,
          -0.835594473009987
         ],
         "y": [
          0.4075686480061352,
          0.4075686480061352,
          0.4075686480061352,
          0.4075686480061352,
          0.4075686480061352
         ],
         "z": [
          0.4075686480061352,
          0.4075686480061352,
          0.4075686480061352,
          0.4075686480061352,
          0.4075686480061352
         ]
        },
        {
         "hovertemplate": "color=Indonesiske rupiah<br>x=%{x}<br>y=%{y}<br>z=%{z}<extra></extra>",
         "legendgroup": "Indonesiske rupiah",
         "marker": {
          "color": "#FF97FF",
          "symbol": "circle"
         },
         "mode": "markers",
         "name": "Indonesiske rupiah",
         "scene": "scene",
         "showlegend": true,
         "type": "scatter3d",
         "x": [
          1.2510314238837983,
          1.2510314238837983,
          1.2510314238837983,
          1.2510314238837983,
          1.2510314238837983
         ],
         "y": [
          2.4941945448999165,
          2.4941945448999165,
          2.4941945448999165,
          2.4941945448999165,
          2.4941945448999165
         ],
         "z": [
          2.4941945448999165,
          2.4941945448999165,
          2.4941945448999165,
          2.4941945448999165,
          2.4941945448999165
         ]
        },
        {
         "hovertemplate": "color=Britiske pund<br>x=%{x}<br>y=%{y}<br>z=%{z}<extra></extra>",
         "legendgroup": "Britiske pund",
         "marker": {
          "color": "#FECB52",
          "symbol": "circle"
         },
         "mode": "markers",
         "name": "Britiske pund",
         "scene": "scene",
         "showlegend": true,
         "type": "scatter3d",
         "x": [
          1.285928719669178,
          1.285928719669178,
          1.285928719669178,
          1.285928719669178,
          1.285928719669178
         ],
         "y": [
          -0.3228706134105102,
          -0.3228706134105102,
          -0.3228706134105102,
          -0.3228706134105102,
          -0.3228706134105102
         ],
         "z": [
          -0.3228706134105102,
          -0.3228706134105102,
          -0.3228706134105102,
          -0.3228706134105102,
          -0.3228706134105102
         ]
        },
        {
         "hovertemplate": "color=Kinesiske yuan<br>x=%{x}<br>y=%{y}<br>z=%{z}<extra></extra>",
         "legendgroup": "Kinesiske yuan",
         "marker": {
          "color": "#636efa",
          "symbol": "circle"
         },
         "mode": "markers",
         "name": "Kinesiske yuan",
         "scene": "scene",
         "showlegend": true,
         "type": "scatter3d",
         "x": [
          -1.531136438641249,
          -1.531136438641249,
          -1.531136438641249,
          -1.531136438641249,
          -1.531136438641249
         ],
         "y": [
          -0.28797331762512546,
          -0.28797331762512546,
          -0.28797331762512546,
          -0.28797331762512546,
          -0.28797331762512546
         ],
         "z": [
          -0.28797331762512546,
          -0.28797331762512546,
          -0.28797331762512546,
          -0.28797331762512546,
          -0.28797331762512546
         ]
        },
        {
         "hovertemplate": "color=Brasilianske real<br>x=%{x}<br>y=%{y}<br>z=%{z}<extra></extra>",
         "legendgroup": "Brasilianske real",
         "marker": {
          "color": "#EF553B",
          "symbol": "circle"
         },
         "mode": "markers",
         "name": "Brasilianske real",
         "scene": "scene",
         "showlegend": true,
         "type": "scatter3d",
         "x": [
          1.285928719669178,
          1.285928719669178,
          1.285928719669178,
          1.285928719669178,
          1.285928719669178
         ],
         "y": [
          -0.3228706134105102,
          -0.3228706134105102,
          -0.3228706134105102,
          -0.3228706134105102,
          -0.3228706134105102
         ],
         "z": [
          -0.3228706134105102,
          -0.3228706134105102,
          -0.3228706134105102,
          -0.3228706134105102,
          -0.3228706134105102
         ]
        },
        {
         "hovertemplate": "color=Vietnamesiske dong<br>x=%{x}<br>y=%{y}<br>z=%{z}<extra></extra>",
         "legendgroup": "Vietnamesiske dong",
         "marker": {
          "color": "#00cc96",
          "symbol": "circle"
         },
         "mode": "markers",
         "name": "Vietnamesiske dong",
         "scene": "scene",
         "showlegend": true,
         "type": "scatter3d",
         "x": [
          -0.1400525073787256,
          -0.1400525073787256,
          -0.1400525073787256,
          -0.1400525073787256,
          -0.1400525073787256
         ],
         "y": [
          1.1031106136373958,
          1.1031106136373958,
          1.1031106136373958,
          1.1031106136373958,
          1.1031106136373958
         ],
         "z": [
          1.1031106136373958,
          1.1031106136373958,
          1.1031106136373958,
          1.1031106136373958,
          1.1031106136373958
         ]
        },
        {
         "hovertemplate": "color=Belarusiske nye rubler<br>x=%{x}<br>y=%{y}<br>z=%{z}<extra></extra>",
         "legendgroup": "Belarusiske nye rubler",
         "marker": {
          "color": "#ab63fa",
          "symbol": "circle"
         },
         "mode": "markers",
         "name": "Belarusiske nye rubler",
         "scene": "scene",
         "showlegend": true,
         "type": "scatter3d",
         "x": [
          1.285928719669178,
          1.285928719669178,
          1.285928719669178,
          1.285928719669178,
          1.285928719669178
         ],
         "y": [
          -0.3228706134105102,
          -0.3228706134105102,
          -0.3228706134105102,
          -0.3228706134105102,
          -0.3228706134105102
         ],
         "z": [
          -0.3228706134105102,
          -0.3228706134105102,
          -0.3228706134105102,
          -0.3228706134105102,
          -0.3228706134105102
         ]
        },
        {
         "hovertemplate": "color=Industriens effektive valutakurs<br>x=%{x}<br>y=%{y}<br>z=%{z}<extra></extra>",
         "legendgroup": "Industriens effektive valutakurs",
         "marker": {
          "color": "#FFA15A",
          "symbol": "circle"
         },
         "mode": "markers",
         "name": "Industriens effektive valutakurs",
         "scene": "scene",
         "showlegend": true,
         "type": "scatter3d",
         "x": [
          -0.10515521159334566,
          -0.10515521159334566,
          -0.10515521159334566,
          -0.10515521159334566,
          -0.10515521159334566
         ],
         "y": [
          -1.713954544673031,
          -1.713954544673031,
          -1.713954544673031,
          -1.713954544673031,
          -1.713954544673031
         ],
         "z": [
          -1.713954544673031,
          -1.713954544673031,
          -1.713954544673031,
          -1.713954544673031,
          -1.713954544673031
         ]
        },
        {
         "hovertemplate": "color=Singapore dollar<br>x=%{x}<br>y=%{y}<br>z=%{z}<extra></extra>",
         "legendgroup": "Singapore dollar",
         "marker": {
          "color": "#19d3f3",
          "symbol": "circle"
         },
         "mode": "markers",
         "name": "Singapore dollar",
         "scene": "scene",
         "showlegend": true,
         "type": "scatter3d",
         "x": [
          1.285928719669178,
          1.285928719669178,
          1.285928719669178,
          1.285928719669178,
          1.285928719669178
         ],
         "y": [
          -0.3228706134105102,
          -0.3228706134105102,
          -0.3228706134105102,
          -0.3228706134105102,
          -0.3228706134105102
         ],
         "z": [
          -0.3228706134105102,
          -0.3228706134105102,
          -0.3228706134105102,
          -0.3228706134105102,
          -0.3228706134105102
         ]
        },
        {
         "hovertemplate": "color=Pakistanske rupi<br>x=%{x}<br>y=%{y}<br>z=%{z}<extra></extra>",
         "legendgroup": "Pakistanske rupi",
         "marker": {
          "color": "#FF6692",
          "symbol": "circle"
         },
         "mode": "markers",
         "name": "Pakistanske rupi",
         "scene": "scene",
         "showlegend": true,
         "type": "scatter3d",
         "x": [
          -0.835594473009987,
          -0.835594473009987,
          -0.835594473009987,
          -0.835594473009987,
          -0.835594473009987
         ],
         "y": [
          0.4075686480061352,
          0.4075686480061352,
          0.4075686480061352,
          0.4075686480061352,
          0.4075686480061352
         ],
         "z": [
          0.4075686480061352,
          0.4075686480061352,
          0.4075686480061352,
          0.4075686480061352,
          0.4075686480061352
         ]
        },
        {
         "hovertemplate": "color=Meksikanske peso<br>x=%{x}<br>y=%{y}<br>z=%{z}<extra></extra>",
         "legendgroup": "Meksikanske peso",
         "marker": {
          "color": "#B6E880",
          "symbol": "circle"
         },
         "mode": "markers",
         "name": "Meksikanske peso",
         "scene": "scene",
         "showlegend": true,
         "type": "scatter3d",
         "x": [
          -1.531136438641249,
          -1.531136438641249,
          -1.531136438641249,
          -1.531136438641249,
          -1.531136438641249
         ],
         "y": [
          -0.28797331762512546,
          -0.28797331762512546,
          -0.28797331762512546,
          -0.28797331762512546,
          -0.28797331762512546
         ],
         "z": [
          -0.28797331762512546,
          -0.28797331762512546,
          -0.28797331762512546,
          -0.28797331762512546,
          -0.28797331762512546
         ]
        },
        {
         "hovertemplate": "color=Ny israelsk shekel<br>x=%{x}<br>y=%{y}<br>z=%{z}<extra></extra>",
         "legendgroup": "Ny israelsk shekel",
         "marker": {
          "color": "#FF97FF",
          "symbol": "circle"
         },
         "mode": "markers",
         "name": "Ny israelsk shekel",
         "scene": "scene",
         "showlegend": true,
         "type": "scatter3d",
         "x": [
          1.285928719669178,
          1.285928719669178,
          1.285928719669178,
          1.285928719669178,
          1.285928719669178
         ],
         "y": [
          -0.3228706134105102,
          -0.3228706134105102,
          -0.3228706134105102,
          -0.3228706134105102,
          -0.3228706134105102
         ],
         "z": [
          -0.3228706134105102,
          -0.3228706134105102,
          -0.3228706134105102,
          -0.3228706134105102,
          -0.3228706134105102
         ]
        },
        {
         "hovertemplate": "color=Importveid kursindeks<br>x=%{x}<br>y=%{y}<br>z=%{z}<extra></extra>",
         "legendgroup": "Importveid kursindeks",
         "marker": {
          "color": "#FECB52",
          "symbol": "circle"
         },
         "mode": "markers",
         "name": "Importveid kursindeks",
         "scene": "scene",
         "showlegend": true,
         "type": "scatter3d",
         "x": [
          -0.10515521159334566,
          -0.10515521159334566,
          -0.10515521159334566,
          -0.10515521159334566,
          -0.10515521159334566
         ],
         "y": [
          -1.713954544673031,
          -1.713954544673031,
          -1.713954544673031,
          -1.713954544673031,
          -1.713954544673031
         ],
         "z": [
          -1.713954544673031,
          -1.713954544673031,
          -1.713954544673031,
          -1.713954544673031,
          -1.713954544673031
         ]
        },
        {
         "hovertemplate": "color=Euro<br>x=%{x}<br>y=%{y}<br>z=%{z}<extra></extra>",
         "legendgroup": "Euro",
         "marker": {
          "color": "#636efa",
          "symbol": "circle"
         },
         "mode": "markers",
         "name": "Euro",
         "scene": "scene",
         "showlegend": true,
         "type": "scatter3d",
         "x": [
          1.285928719669178,
          1.285928719669178,
          1.285928719669178,
          1.285928719669178,
          1.285928719669178
         ],
         "y": [
          -0.3228706134105102,
          -0.3228706134105102,
          -0.3228706134105102,
          -0.3228706134105102,
          -0.3228706134105102
         ],
         "z": [
          -0.3228706134105102,
          -0.3228706134105102,
          -0.3228706134105102,
          -0.3228706134105102,
          -0.3228706134105102
         ]
        },
        {
         "hovertemplate": "color=Sveitsiske franc<br>x=%{x}<br>y=%{y}<br>z=%{z}<extra></extra>",
         "legendgroup": "Sveitsiske franc",
         "marker": {
          "color": "#EF553B",
          "symbol": "circle"
         },
         "mode": "markers",
         "name": "Sveitsiske franc",
         "scene": "scene",
         "showlegend": true,
         "type": "scatter3d",
         "x": [
          -1.531136438641249,
          -1.531136438641249,
          -1.531136438641249,
          -1.531136438641249,
          -1.531136438641249
         ],
         "y": [
          -0.28797331762512546,
          -0.28797331762512546,
          -0.28797331762512546,
          -0.28797331762512546,
          -0.28797331762512546
         ],
         "z": [
          -0.28797331762512546,
          -0.28797331762512546,
          -0.28797331762512546,
          -0.28797331762512546,
          -0.28797331762512546
         ]
        },
        {
         "hovertemplate": "color=Bulgarske lev<br>x=%{x}<br>y=%{y}<br>z=%{z}<extra></extra>",
         "legendgroup": "Bulgarske lev",
         "marker": {
          "color": "#00cc96",
          "symbol": "circle"
         },
         "mode": "markers",
         "name": "Bulgarske lev",
         "scene": "scene",
         "showlegend": true,
         "type": "scatter3d",
         "x": [
          -1.531136438641249,
          -1.531136438641249,
          -1.531136438641249,
          -1.531136438641249,
          -1.531136438641249
         ],
         "y": [
          -0.28797331762512546,
          -0.28797331762512546,
          -0.28797331762512546,
          -0.28797331762512546,
          -0.28797331762512546
         ],
         "z": [
          -0.28797331762512546,
          -0.28797331762512546,
          -0.28797331762512546,
          -0.28797331762512546,
          -0.28797331762512546
         ]
        },
        {
         "hovertemplate": "color=Islandske kroner<br>x=%{x}<br>y=%{y}<br>z=%{z}<extra></extra>",
         "legendgroup": "Islandske kroner",
         "marker": {
          "color": "#ab63fa",
          "symbol": "circle"
         },
         "mode": "markers",
         "name": "Islandske kroner",
         "scene": "scene",
         "showlegend": true,
         "type": "scatter3d",
         "x": [
          -1.531136438641249,
          -1.531136438641249,
          -1.531136438641249,
          -1.531136438641249,
          -1.531136438641249
         ],
         "y": [
          -0.28797331762512546,
          -0.28797331762512546,
          -0.28797331762512546,
          -0.28797331762512546,
          -0.28797331762512546
         ],
         "z": [
          -0.28797331762512546,
          -0.28797331762512546,
          -0.28797331762512546,
          -0.28797331762512546,
          -0.28797331762512546
         ]
        },
        {
         "hovertemplate": "color=Sørafrikanske rand<br>x=%{x}<br>y=%{y}<br>z=%{z}<extra></extra>",
         "legendgroup": "Sørafrikanske rand",
         "marker": {
          "color": "#FFA15A",
          "symbol": "circle"
         },
         "mode": "markers",
         "name": "Sørafrikanske rand",
         "scene": "scene",
         "showlegend": true,
         "type": "scatter3d",
         "x": [
          1.285928719669178,
          1.285928719669178,
          1.285928719669178,
          1.285928719669178,
          1.285928719669178
         ],
         "y": [
          -0.3228706134105102,
          -0.3228706134105102,
          -0.3228706134105102,
          -0.3228706134105102,
          -0.3228706134105102
         ],
         "z": [
          -0.3228706134105102,
          -0.3228706134105102,
          -0.3228706134105102,
          -0.3228706134105102,
          -0.3228706134105102
         ]
        },
        {
         "hovertemplate": "color=Nye taiwanske dollar<br>x=%{x}<br>y=%{y}<br>z=%{z}<extra></extra>",
         "legendgroup": "Nye taiwanske dollar",
         "marker": {
          "color": "#19d3f3",
          "symbol": "circle"
         },
         "mode": "markers",
         "name": "Nye taiwanske dollar",
         "scene": "scene",
         "showlegend": true,
         "type": "scatter3d",
         "x": [
          -0.835594473009987,
          -0.835594473009987,
          -0.835594473009987,
          -0.835594473009987,
          -0.835594473009987
         ],
         "y": [
          0.4075686480061352,
          0.4075686480061352,
          0.4075686480061352,
          0.4075686480061352,
          0.4075686480061352
         ],
         "z": [
          0.4075686480061352,
          0.4075686480061352,
          0.4075686480061352,
          0.4075686480061352,
          0.4075686480061352
         ]
        },
        {
         "hovertemplate": "color=Svenske kroner<br>x=%{x}<br>y=%{y}<br>z=%{z}<extra></extra>",
         "legendgroup": "Svenske kroner",
         "marker": {
          "color": "#FF6692",
          "symbol": "circle"
         },
         "mode": "markers",
         "name": "Svenske kroner",
         "scene": "scene",
         "showlegend": true,
         "type": "scatter3d",
         "x": [
          -1.531136438641249,
          -1.531136438641249,
          -1.531136438641249,
          -1.531136438641249,
          -1.531136438641249
         ],
         "y": [
          -0.28797331762512546,
          -0.28797331762512546,
          -0.28797331762512546,
          -0.28797331762512546,
          -0.28797331762512546
         ],
         "z": [
          -0.28797331762512546,
          -0.28797331762512546,
          -0.28797331762512546,
          -0.28797331762512546,
          -0.28797331762512546
         ]
        },
        {
         "hovertemplate": "color=Filippinske peso<br>x=%{x}<br>y=%{y}<br>z=%{z}<extra></extra>",
         "legendgroup": "Filippinske peso",
         "marker": {
          "color": "#B6E880",
          "symbol": "circle"
         },
         "mode": "markers",
         "name": "Filippinske peso",
         "scene": "scene",
         "showlegend": true,
         "type": "scatter3d",
         "x": [
          -0.835594473009987,
          -0.835594473009987,
          -0.835594473009987,
          -0.835594473009987,
          -0.835594473009987
         ],
         "y": [
          0.4075686480061352,
          0.4075686480061352,
          0.4075686480061352,
          0.4075686480061352,
          0.4075686480061352
         ],
         "z": [
          0.4075686480061352,
          0.4075686480061352,
          0.4075686480061352,
          0.4075686480061352,
          0.4075686480061352
         ]
        },
        {
         "hovertemplate": "color=Sørkoreanske won<br>x=%{x}<br>y=%{y}<br>z=%{z}<extra></extra>",
         "legendgroup": "Sørkoreanske won",
         "marker": {
          "color": "#FF97FF",
          "symbol": "circle"
         },
         "mode": "markers",
         "name": "Sørkoreanske won",
         "scene": "scene",
         "showlegend": true,
         "type": "scatter3d",
         "x": [
          -0.1400525073787256,
          -0.1400525073787256,
          -0.1400525073787256,
          -0.1400525073787256,
          -0.1400525073787256
         ],
         "y": [
          1.1031106136373958,
          1.1031106136373958,
          1.1031106136373958,
          1.1031106136373958,
          1.1031106136373958
         ],
         "z": [
          1.1031106136373958,
          1.1031106136373958,
          1.1031106136373958,
          1.1031106136373958,
          1.1031106136373958
         ]
        }
       ],
       "layout": {
        "legend": {
         "title": {
          "text": "color"
         },
         "tracegroupgap": 0
        },
        "margin": {
         "t": 60
        },
        "scene": {
         "domain": {
          "x": [
           0,
           1
          ],
          "y": [
           0,
           1
          ]
         },
         "xaxis": {
          "title": {
           "text": "x"
          }
         },
         "yaxis": {
          "title": {
           "text": "y"
          }
         },
         "zaxis": {
          "title": {
           "text": "z"
          }
         }
        },
        "template": {
         "data": {
          "bar": [
           {
            "error_x": {
             "color": "#2a3f5f"
            },
            "error_y": {
             "color": "#2a3f5f"
            },
            "marker": {
             "line": {
              "color": "#E5ECF6",
              "width": 0.5
             },
             "pattern": {
              "fillmode": "overlay",
              "size": 10,
              "solidity": 0.2
             }
            },
            "type": "bar"
           }
          ],
          "barpolar": [
           {
            "marker": {
             "line": {
              "color": "#E5ECF6",
              "width": 0.5
             },
             "pattern": {
              "fillmode": "overlay",
              "size": 10,
              "solidity": 0.2
             }
            },
            "type": "barpolar"
           }
          ],
          "carpet": [
           {
            "aaxis": {
             "endlinecolor": "#2a3f5f",
             "gridcolor": "white",
             "linecolor": "white",
             "minorgridcolor": "white",
             "startlinecolor": "#2a3f5f"
            },
            "baxis": {
             "endlinecolor": "#2a3f5f",
             "gridcolor": "white",
             "linecolor": "white",
             "minorgridcolor": "white",
             "startlinecolor": "#2a3f5f"
            },
            "type": "carpet"
           }
          ],
          "choropleth": [
           {
            "colorbar": {
             "outlinewidth": 0,
             "ticks": ""
            },
            "type": "choropleth"
           }
          ],
          "contour": [
           {
            "colorbar": {
             "outlinewidth": 0,
             "ticks": ""
            },
            "colorscale": [
             [
              0,
              "#0d0887"
             ],
             [
              0.1111111111111111,
              "#46039f"
             ],
             [
              0.2222222222222222,
              "#7201a8"
             ],
             [
              0.3333333333333333,
              "#9c179e"
             ],
             [
              0.4444444444444444,
              "#bd3786"
             ],
             [
              0.5555555555555556,
              "#d8576b"
             ],
             [
              0.6666666666666666,
              "#ed7953"
             ],
             [
              0.7777777777777778,
              "#fb9f3a"
             ],
             [
              0.8888888888888888,
              "#fdca26"
             ],
             [
              1,
              "#f0f921"
             ]
            ],
            "type": "contour"
           }
          ],
          "contourcarpet": [
           {
            "colorbar": {
             "outlinewidth": 0,
             "ticks": ""
            },
            "type": "contourcarpet"
           }
          ],
          "heatmap": [
           {
            "colorbar": {
             "outlinewidth": 0,
             "ticks": ""
            },
            "colorscale": [
             [
              0,
              "#0d0887"
             ],
             [
              0.1111111111111111,
              "#46039f"
             ],
             [
              0.2222222222222222,
              "#7201a8"
             ],
             [
              0.3333333333333333,
              "#9c179e"
             ],
             [
              0.4444444444444444,
              "#bd3786"
             ],
             [
              0.5555555555555556,
              "#d8576b"
             ],
             [
              0.6666666666666666,
              "#ed7953"
             ],
             [
              0.7777777777777778,
              "#fb9f3a"
             ],
             [
              0.8888888888888888,
              "#fdca26"
             ],
             [
              1,
              "#f0f921"
             ]
            ],
            "type": "heatmap"
           }
          ],
          "heatmapgl": [
           {
            "colorbar": {
             "outlinewidth": 0,
             "ticks": ""
            },
            "colorscale": [
             [
              0,
              "#0d0887"
             ],
             [
              0.1111111111111111,
              "#46039f"
             ],
             [
              0.2222222222222222,
              "#7201a8"
             ],
             [
              0.3333333333333333,
              "#9c179e"
             ],
             [
              0.4444444444444444,
              "#bd3786"
             ],
             [
              0.5555555555555556,
              "#d8576b"
             ],
             [
              0.6666666666666666,
              "#ed7953"
             ],
             [
              0.7777777777777778,
              "#fb9f3a"
             ],
             [
              0.8888888888888888,
              "#fdca26"
             ],
             [
              1,
              "#f0f921"
             ]
            ],
            "type": "heatmapgl"
           }
          ],
          "histogram": [
           {
            "marker": {
             "pattern": {
              "fillmode": "overlay",
              "size": 10,
              "solidity": 0.2
             }
            },
            "type": "histogram"
           }
          ],
          "histogram2d": [
           {
            "colorbar": {
             "outlinewidth": 0,
             "ticks": ""
            },
            "colorscale": [
             [
              0,
              "#0d0887"
             ],
             [
              0.1111111111111111,
              "#46039f"
             ],
             [
              0.2222222222222222,
              "#7201a8"
             ],
             [
              0.3333333333333333,
              "#9c179e"
             ],
             [
              0.4444444444444444,
              "#bd3786"
             ],
             [
              0.5555555555555556,
              "#d8576b"
             ],
             [
              0.6666666666666666,
              "#ed7953"
             ],
             [
              0.7777777777777778,
              "#fb9f3a"
             ],
             [
              0.8888888888888888,
              "#fdca26"
             ],
             [
              1,
              "#f0f921"
             ]
            ],
            "type": "histogram2d"
           }
          ],
          "histogram2dcontour": [
           {
            "colorbar": {
             "outlinewidth": 0,
             "ticks": ""
            },
            "colorscale": [
             [
              0,
              "#0d0887"
             ],
             [
              0.1111111111111111,
              "#46039f"
             ],
             [
              0.2222222222222222,
              "#7201a8"
             ],
             [
              0.3333333333333333,
              "#9c179e"
             ],
             [
              0.4444444444444444,
              "#bd3786"
             ],
             [
              0.5555555555555556,
              "#d8576b"
             ],
             [
              0.6666666666666666,
              "#ed7953"
             ],
             [
              0.7777777777777778,
              "#fb9f3a"
             ],
             [
              0.8888888888888888,
              "#fdca26"
             ],
             [
              1,
              "#f0f921"
             ]
            ],
            "type": "histogram2dcontour"
           }
          ],
          "mesh3d": [
           {
            "colorbar": {
             "outlinewidth": 0,
             "ticks": ""
            },
            "type": "mesh3d"
           }
          ],
          "parcoords": [
           {
            "line": {
             "colorbar": {
              "outlinewidth": 0,
              "ticks": ""
             }
            },
            "type": "parcoords"
           }
          ],
          "pie": [
           {
            "automargin": true,
            "type": "pie"
           }
          ],
          "scatter": [
           {
            "fillpattern": {
             "fillmode": "overlay",
             "size": 10,
             "solidity": 0.2
            },
            "type": "scatter"
           }
          ],
          "scatter3d": [
           {
            "line": {
             "colorbar": {
              "outlinewidth": 0,
              "ticks": ""
             }
            },
            "marker": {
             "colorbar": {
              "outlinewidth": 0,
              "ticks": ""
             }
            },
            "type": "scatter3d"
           }
          ],
          "scattercarpet": [
           {
            "marker": {
             "colorbar": {
              "outlinewidth": 0,
              "ticks": ""
             }
            },
            "type": "scattercarpet"
           }
          ],
          "scattergeo": [
           {
            "marker": {
             "colorbar": {
              "outlinewidth": 0,
              "ticks": ""
             }
            },
            "type": "scattergeo"
           }
          ],
          "scattergl": [
           {
            "marker": {
             "colorbar": {
              "outlinewidth": 0,
              "ticks": ""
             }
            },
            "type": "scattergl"
           }
          ],
          "scattermapbox": [
           {
            "marker": {
             "colorbar": {
              "outlinewidth": 0,
              "ticks": ""
             }
            },
            "type": "scattermapbox"
           }
          ],
          "scatterpolar": [
           {
            "marker": {
             "colorbar": {
              "outlinewidth": 0,
              "ticks": ""
             }
            },
            "type": "scatterpolar"
           }
          ],
          "scatterpolargl": [
           {
            "marker": {
             "colorbar": {
              "outlinewidth": 0,
              "ticks": ""
             }
            },
            "type": "scatterpolargl"
           }
          ],
          "scatterternary": [
           {
            "marker": {
             "colorbar": {
              "outlinewidth": 0,
              "ticks": ""
             }
            },
            "type": "scatterternary"
           }
          ],
          "surface": [
           {
            "colorbar": {
             "outlinewidth": 0,
             "ticks": ""
            },
            "colorscale": [
             [
              0,
              "#0d0887"
             ],
             [
              0.1111111111111111,
              "#46039f"
             ],
             [
              0.2222222222222222,
              "#7201a8"
             ],
             [
              0.3333333333333333,
              "#9c179e"
             ],
             [
              0.4444444444444444,
              "#bd3786"
             ],
             [
              0.5555555555555556,
              "#d8576b"
             ],
             [
              0.6666666666666666,
              "#ed7953"
             ],
             [
              0.7777777777777778,
              "#fb9f3a"
             ],
             [
              0.8888888888888888,
              "#fdca26"
             ],
             [
              1,
              "#f0f921"
             ]
            ],
            "type": "surface"
           }
          ],
          "table": [
           {
            "cells": {
             "fill": {
              "color": "#EBF0F8"
             },
             "line": {
              "color": "white"
             }
            },
            "header": {
             "fill": {
              "color": "#C8D4E3"
             },
             "line": {
              "color": "white"
             }
            },
            "type": "table"
           }
          ]
         },
         "layout": {
          "annotationdefaults": {
           "arrowcolor": "#2a3f5f",
           "arrowhead": 0,
           "arrowwidth": 1
          },
          "autotypenumbers": "strict",
          "coloraxis": {
           "colorbar": {
            "outlinewidth": 0,
            "ticks": ""
           }
          },
          "colorscale": {
           "diverging": [
            [
             0,
             "#8e0152"
            ],
            [
             0.1,
             "#c51b7d"
            ],
            [
             0.2,
             "#de77ae"
            ],
            [
             0.3,
             "#f1b6da"
            ],
            [
             0.4,
             "#fde0ef"
            ],
            [
             0.5,
             "#f7f7f7"
            ],
            [
             0.6,
             "#e6f5d0"
            ],
            [
             0.7,
             "#b8e186"
            ],
            [
             0.8,
             "#7fbc41"
            ],
            [
             0.9,
             "#4d9221"
            ],
            [
             1,
             "#276419"
            ]
           ],
           "sequential": [
            [
             0,
             "#0d0887"
            ],
            [
             0.1111111111111111,
             "#46039f"
            ],
            [
             0.2222222222222222,
             "#7201a8"
            ],
            [
             0.3333333333333333,
             "#9c179e"
            ],
            [
             0.4444444444444444,
             "#bd3786"
            ],
            [
             0.5555555555555556,
             "#d8576b"
            ],
            [
             0.6666666666666666,
             "#ed7953"
            ],
            [
             0.7777777777777778,
             "#fb9f3a"
            ],
            [
             0.8888888888888888,
             "#fdca26"
            ],
            [
             1,
             "#f0f921"
            ]
           ],
           "sequentialminus": [
            [
             0,
             "#0d0887"
            ],
            [
             0.1111111111111111,
             "#46039f"
            ],
            [
             0.2222222222222222,
             "#7201a8"
            ],
            [
             0.3333333333333333,
             "#9c179e"
            ],
            [
             0.4444444444444444,
             "#bd3786"
            ],
            [
             0.5555555555555556,
             "#d8576b"
            ],
            [
             0.6666666666666666,
             "#ed7953"
            ],
            [
             0.7777777777777778,
             "#fb9f3a"
            ],
            [
             0.8888888888888888,
             "#fdca26"
            ],
            [
             1,
             "#f0f921"
            ]
           ]
          },
          "colorway": [
           "#636efa",
           "#EF553B",
           "#00cc96",
           "#ab63fa",
           "#FFA15A",
           "#19d3f3",
           "#FF6692",
           "#B6E880",
           "#FF97FF",
           "#FECB52"
          ],
          "font": {
           "color": "#2a3f5f"
          },
          "geo": {
           "bgcolor": "white",
           "lakecolor": "white",
           "landcolor": "#E5ECF6",
           "showlakes": true,
           "showland": true,
           "subunitcolor": "white"
          },
          "hoverlabel": {
           "align": "left"
          },
          "hovermode": "closest",
          "mapbox": {
           "style": "light"
          },
          "paper_bgcolor": "white",
          "plot_bgcolor": "#E5ECF6",
          "polar": {
           "angularaxis": {
            "gridcolor": "white",
            "linecolor": "white",
            "ticks": ""
           },
           "bgcolor": "#E5ECF6",
           "radialaxis": {
            "gridcolor": "white",
            "linecolor": "white",
            "ticks": ""
           }
          },
          "scene": {
           "xaxis": {
            "backgroundcolor": "#E5ECF6",
            "gridcolor": "white",
            "gridwidth": 2,
            "linecolor": "white",
            "showbackground": true,
            "ticks": "",
            "zerolinecolor": "white"
           },
           "yaxis": {
            "backgroundcolor": "#E5ECF6",
            "gridcolor": "white",
            "gridwidth": 2,
            "linecolor": "white",
            "showbackground": true,
            "ticks": "",
            "zerolinecolor": "white"
           },
           "zaxis": {
            "backgroundcolor": "#E5ECF6",
            "gridcolor": "white",
            "gridwidth": 2,
            "linecolor": "white",
            "showbackground": true,
            "ticks": "",
            "zerolinecolor": "white"
           }
          },
          "shapedefaults": {
           "line": {
            "color": "#2a3f5f"
           }
          },
          "ternary": {
           "aaxis": {
            "gridcolor": "white",
            "linecolor": "white",
            "ticks": ""
           },
           "baxis": {
            "gridcolor": "white",
            "linecolor": "white",
            "ticks": ""
           },
           "bgcolor": "#E5ECF6",
           "caxis": {
            "gridcolor": "white",
            "linecolor": "white",
            "ticks": ""
           }
          },
          "title": {
           "x": 0.05
          },
          "xaxis": {
           "automargin": true,
           "gridcolor": "white",
           "linecolor": "white",
           "ticks": "",
           "title": {
            "standoff": 15
           },
           "zerolinecolor": "white",
           "zerolinewidth": 2
          },
          "yaxis": {
           "automargin": true,
           "gridcolor": "white",
           "linecolor": "white",
           "ticks": "",
           "title": {
            "standoff": 15
           },
           "zerolinecolor": "white",
           "zerolinewidth": 2
          }
         }
        }
       }
      }
     },
     "metadata": {},
     "output_type": "display_data"
    }
   ],
   "source": [
    "# Plot the 3D data\n",
    "fig = px.scatter_3d(x=T[:,0], y=T[:,1], z=T[:,1],color=df['Basisvaluta'])\n",
    "# Show the plot\n",
    "fig.show()"
   ]
  },
  {
   "cell_type": "code",
   "execution_count": 144,
   "metadata": {},
   "outputs": [
    {
     "ename": "NameError",
     "evalue": "name 'loadings' is not defined",
     "output_type": "error",
     "traceback": [
      "\u001b[0;31m---------------------------------------------------------------------------\u001b[0m",
      "\u001b[0;31mNameError\u001b[0m                                 Traceback (most recent call last)",
      "Cell \u001b[0;32mIn[144], line 15\u001b[0m\n\u001b[1;32m     11\u001b[0m \u001b[39m# Add the loadings (vectors) to the plot\u001b[39;00m\n\u001b[1;32m     12\u001b[0m \u001b[39mfor\u001b[39;00m i, feature \u001b[39min\u001b[39;00m \u001b[39menumerate\u001b[39m(df\u001b[39m.\u001b[39mdrop(columns\u001b[39m=\u001b[39m\u001b[39m'\u001b[39m\u001b[39mBasisvaluta\u001b[39m\u001b[39m'\u001b[39m)\u001b[39m.\u001b[39mcolumns):\n\u001b[1;32m     13\u001b[0m     fig\u001b[39m.\u001b[39madd_trace(\n\u001b[1;32m     14\u001b[0m         go\u001b[39m.\u001b[39mScatter3d(\n\u001b[0;32m---> 15\u001b[0m             x\u001b[39m=\u001b[39m[\u001b[39m0\u001b[39m, loadings[i, \u001b[39m0\u001b[39m]],\n\u001b[1;32m     16\u001b[0m             y\u001b[39m=\u001b[39m[\u001b[39m0\u001b[39m, loadings[i, \u001b[39m1\u001b[39m]],\n\u001b[1;32m     17\u001b[0m             z\u001b[39m=\u001b[39m[\u001b[39m0\u001b[39m, loadings[i, \u001b[39m2\u001b[39m]],\n\u001b[1;32m     18\u001b[0m             mode\u001b[39m=\u001b[39m\u001b[39m'\u001b[39m\u001b[39mlines+text\u001b[39m\u001b[39m'\u001b[39m,\n\u001b[1;32m     19\u001b[0m             name\u001b[39m=\u001b[39mfeature,\n\u001b[1;32m     20\u001b[0m             text\u001b[39m=\u001b[39m[\u001b[39mNone\u001b[39;00m, feature],\n\u001b[1;32m     21\u001b[0m             textposition\u001b[39m=\u001b[39m\u001b[39m'\u001b[39m\u001b[39mtop center\u001b[39m\u001b[39m'\u001b[39m\n\u001b[1;32m     22\u001b[0m         )\n\u001b[1;32m     23\u001b[0m     )\n\u001b[1;32m     25\u001b[0m fig\u001b[39m.\u001b[39mshow()\n",
      "\u001b[0;31mNameError\u001b[0m: name 'loadings' is not defined"
     ]
    }
   ],
   "source": [
    "# Create the scatter plot for the data\n",
    "fig = px.scatter_3d(x=T[:, 0], y=T[:, 1], z=T[:, 1], color=df['Basisvaluta'])\n",
    "\n",
    "# Add the loadings (vectors) to the plot\n",
    "for i, feature in enumerate(df.drop(columns='Basisvaluta').columns):\n",
    "    fig.add_trace(\n",
    "        go.Scatter3d(\n",
    "            x=[0, loadings[i, 0]],\n",
    "            y=[0, loadings[i, 1]],\n",
    "            z=[0, loadings[i, 2]],\n",
    "            mode='lines+text',\n",
    "            name=feature,\n",
    "            text=[None, feature],\n",
    "            textposition='top center'\n",
    "        )\n",
    "    )\n",
    "\n",
    "fig.show()\n"
   ]
  },
  {
   "cell_type": "code",
   "execution_count": 145,
   "metadata": {},
   "outputs": [
    {
     "data": {
      "image/png": "[encoded data removed]",
      "text/plain": [
       "<Figure size 640x480 with 1 Axes>"
      ]
     },
     "metadata": {},
     "output_type": "display_data"
    }
   ],
   "source": [
    "def biplot(score,coeff,y,labels=None):\n",
    "    xs = score[:,0]\n",
    "    ys = score[:,1]\n",
    "    n = coeff.shape[0]\n",
    "    scalex = 1.0/(xs.max() - xs.min())\n",
    "    scaley = 1.0/(ys.max() - ys.min())\n",
    "    plt.scatter(xs * scalex,ys * scaley, c = y)\n",
    "    for i in range(n):\n",
    "        plt.arrow(0, 0, coeff[i,0], coeff[i,1],color = 'r',alpha = 0.5)\n",
    "        if labels is None:\n",
    "            plt.text(coeff[i,0]* 1.15, coeff[i,1] * 1.15, \"Var\"+str(i+1), color = 'g', ha = 'center', va = 'center')\n",
    "        else:\n",
    "            plt.text(coeff[i,0]* 1.15, coeff[i,1] * 1.15, labels[i], color = 'g', ha = 'center', va = 'center')\n",
    "    plt.xlim(-1,1)\n",
    "    plt.ylim(-1,1)\n",
    "    plt.xlabel(\"PC - {}\".format(1))\n",
    "    plt.ylabel(\"PC - {}\".format(2))\n",
    "    plt.grid()\n",
    "\n",
    "#Call the function. Use only the 2 PCs.\n",
    "biplot(T[:,0:2],np.transpose(pca.components_[0:2, :]), df['DECIMALS'])\n",
    "plt.show()"
   ]
  },
  {
   "cell_type": "markdown",
   "metadata": {},
   "source": [
    "# Model and prediction?"
   ]
  }
 ],
 "metadata": {
  "kernelspec": {
   "display_name": "jobb",
   "language": "python",
   "name": "python3"
  },
  "language_info": {
   "codemirror_mode": {
    "name": "ipython",
    "version": 3
   },
   "file_extension": ".py",
   "mimetype": "text/x-python",
   "name": "python",
   "nbconvert_exporter": "python",
   "pygments_lexer": "ipython3",
   "version": "3.11.0"
  },
  "orig_nbformat": 4
 },
 "nbformat": 4,
 "nbformat_minor": 2
}
